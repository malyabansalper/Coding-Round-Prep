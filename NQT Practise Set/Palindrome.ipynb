{
 "cells": [
  {
   "cell_type": "code",
   "execution_count": 4,
   "metadata": {},
   "outputs": [
    {
     "name": "stdout",
     "output_type": "stream",
     "text": [
      "Enter Number : 13431\n"
     ]
    }
   ],
   "source": [
    "# Palindrome of a Number\n",
    "n=int(input(\"Enter Number : \"))"
   ]
  },
  {
   "cell_type": "code",
   "execution_count": 5,
   "metadata": {},
   "outputs": [
    {
     "name": "stdout",
     "output_type": "stream",
     "text": [
      "Yes the Number is a Palindrome.\n"
     ]
    }
   ],
   "source": [
    "flag=n\n",
    "s=0\n",
    "while(flag>0):\n",
    "    r=flag%10\n",
    "    s=s*10+r\n",
    "    flag=flag//10\n",
    "if(n==s):\n",
    "    print(\"Yes the Number is a Palindrome.\")\n",
    "else:\n",
    "    print(\"No the Number is not a Palindrome.\")"
   ]
  },
  {
   "cell_type": "code",
   "execution_count": 32,
   "metadata": {},
   "outputs": [
    {
     "name": "stdout",
     "output_type": "stream",
     "text": [
      "Enter a String : nitin\n"
     ]
    }
   ],
   "source": [
    "# Palindrome of String\n",
    "n= input(\"Enter a String : \")"
   ]
  },
  {
   "cell_type": "code",
   "execution_count": 33,
   "metadata": {},
   "outputs": [],
   "source": [
    "a=n[::-1]"
   ]
  },
  {
   "cell_type": "code",
   "execution_count": 34,
   "metadata": {},
   "outputs": [
    {
     "name": "stdout",
     "output_type": "stream",
     "text": [
      "Yes the string nitin is a Palindrome.\n"
     ]
    }
   ],
   "source": [
    "if (a==n):\n",
    "    print(\"Yes the string \"+n+\" is a Palindrome.\")\n",
    "else:\n",
    "    print(\"No the string \"+n+\" is not a Palindrome.\")"
   ]
  }
 ],
 "metadata": {
  "kernelspec": {
   "display_name": "Python 3",
   "language": "python",
   "name": "python3"
  },
  "language_info": {
   "codemirror_mode": {
    "name": "ipython",
    "version": 3
   },
   "file_extension": ".py",
   "mimetype": "text/x-python",
   "name": "python",
   "nbconvert_exporter": "python",
   "pygments_lexer": "ipython3",
   "version": "3.8.3"
  }
 },
 "nbformat": 4,
 "nbformat_minor": 4
}
