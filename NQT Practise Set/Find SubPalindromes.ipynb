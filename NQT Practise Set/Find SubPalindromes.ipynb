{
 "cells": [
  {
   "cell_type": "code",
   "execution_count": 1,
   "metadata": {},
   "outputs": [],
   "source": [
    "def addprev(l):\n",
    "    new=[]\n",
    "    for e in l:new.append(new[-1]+e) if (len(new)>0) else new.append(e)\n",
    "    return new"
   ]
  },
  {
   "cell_type": "code",
   "execution_count": 2,
   "metadata": {},
   "outputs": [
    {
     "name": "stdout",
     "output_type": "stream",
     "text": [
      "1\n",
      "5\n",
      "1\n"
     ]
    }
   ],
   "source": [
    "n=int(input())\n",
    "l=[]\n",
    "ll=[]\n",
    "k=int(input())\n",
    "for i in range(1,n+1):\n",
    "    l.append(i)\n",
    "for j in range(1,k+1):\n",
    "    l=addprev(l)\n",
    "for m in l:\n",
    "    ll.append(m%10)\n",
    "ll.sort(reverse=True)\n",
    "b=\"\".join(map(str,ll))\n",
    "print(b)"
   ]
  },
  {
   "cell_type": "code",
   "execution_count": 3,
   "metadata": {},
   "outputs": [
    {
     "name": "stdout",
     "output_type": "stream",
     "text": [
      "Largest possible permutation after 5 swaps is 5 4 1 0 0 "
     ]
    }
   ],
   "source": [
    "def bestpermutation(arr, k, n):\n",
    "    h = {}\n",
    "    for i in range(n):\n",
    "        h[arr[i]] = i\n",
    " \n",
    "    if (n <= k):\n",
    "        arr.sort()\n",
    "        arr.reverse()\n",
    "    else:\n",
    "         \n",
    "        for j in range(n, 0, -1):\n",
    "            if (k > 0):\n",
    "                initial_index = h[j]\n",
    "                best_index = n - j\n",
    " \n",
    "                \n",
    "                if (initial_index != best_index):\n",
    "                    h[j] = best_index\n",
    " \n",
    "                    element = arr[best_index]\n",
    "                    h[element] = initial_index\n",
    "                    arr[best_index], arr[initial_index] = (arr[initial_index],\n",
    "                                                           arr[best_index])\n",
    "                                                            \n",
    "                    # Decrement number of swaps\n",
    "                    k -= 1\n",
    " \n",
    "# Driver Code\n",
    "arr = [ 5,4,1,0,0 ]\n",
    "k = len(arr)\n",
    "n = len(arr)\n",
    "bestpermutation(arr, k, n)\n",
    " \n",
    "print(\"Largest possible permutation after\",\n",
    "      k, \"swaps is\", end = \" \")\n",
    "       \n",
    "for i in range(n):\n",
    "    print(arr[i], end = \" \")\n",
    " "
   ]
  },
  {
   "cell_type": "code",
   "execution_count": 4,
   "metadata": {},
   "outputs": [],
   "source": [
    "from itertools import permutations\n",
    "def greatestPossibleNumber(arr, n):\n",
    "    perm=permutations(arr)\n",
    "    ans=\"\"\n",
    "\n",
    "    # Iterating through all the permutations.\n",
    "    for arr in perm:\n",
    "        temp=\"\"\n",
    "        \n",
    "        # Finding the answer for current permutation.\n",
    "        for i in range(n):\n",
    "            temp+=str(arr[i])\n",
    "        \n",
    "        #Checking if currently generated number is maximum.\n",
    "        if (temp > ans):\n",
    "            ans = temp\n",
    "    \n",
    "    # Checking if all the input numbers were 0.\n",
    "    if (ans[0] == '0'):\n",
    "        return \"0\"\n",
    "    return ans"
   ]
  },
  {
   "cell_type": "code",
   "execution_count": 5,
   "metadata": {},
   "outputs": [
    {
     "data": {
      "text/plain": [
       "'54100'"
      ]
     },
     "execution_count": 5,
     "metadata": {},
     "output_type": "execute_result"
    }
   ],
   "source": [
    "greatestPossibleNumber([ 5,4,1,0,0 ],5)"
   ]
  },
  {
   "cell_type": "code",
   "execution_count": 6,
   "metadata": {},
   "outputs": [],
   "source": [
    "def find_palindromes(inpu, j, k):\n",
    "  c = 0\n",
    "  while j >= 0 and k < len(inpu):\n",
    "    if inpu[j] != inpu[k]:\n",
    "      break\n",
    "    c += 1\n",
    "    j -= 1\n",
    "    k += 1\n",
    "  return c\n",
    "\n",
    "def find_all_palindromes(inpu):\n",
    "  c = 0\n",
    "  for i in range(0, len(inpu)):\n",
    "    c =c+ find_palindromes(inpu, i - 1, i + 1)\n",
    "    c =c+ find_palindromes(inpu, i, i + 1)\n",
    "  return c"
   ]
  },
  {
   "cell_type": "code",
   "execution_count": 7,
   "metadata": {},
   "outputs": [
    {
     "name": "stdout",
     "output_type": "stream",
     "text": [
      "Enter Number : 2\n",
      "Enter Number : 101\n",
      "89\n"
     ]
    }
   ],
   "source": [
    "a=int(input(\"Enter Number : \"))\n",
    "b=int(input(\"Enter Number : \"))\n",
    "l=[]\n",
    "for i in range(a,b+1):\n",
    "    l.append(find_all_palindromes(str(i)))\n",
    "fpal=0\n",
    "for i in l:\n",
    "    if i==0:\n",
    "        fpal+=1\n",
    "print(fpal)"
   ]
  }
 ],
 "metadata": {
  "kernelspec": {
   "display_name": "Python 3",
   "language": "python",
   "name": "python3"
  },
  "language_info": {
   "codemirror_mode": {
    "name": "ipython",
    "version": 3
   },
   "file_extension": ".py",
   "mimetype": "text/x-python",
   "name": "python",
   "nbconvert_exporter": "python",
   "pygments_lexer": "ipython3",
   "version": "3.8.3"
  }
 },
 "nbformat": 4,
 "nbformat_minor": 4
}
