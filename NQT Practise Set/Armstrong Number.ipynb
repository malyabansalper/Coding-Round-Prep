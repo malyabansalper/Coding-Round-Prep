{
 "cells": [
  {
   "cell_type": "code",
   "execution_count": 1,
   "metadata": {},
   "outputs": [
    {
     "name": "stdout",
     "output_type": "stream",
     "text": [
      "Enter number : 153\n"
     ]
    }
   ],
   "source": [
    "# to check a number is armstrong or not\n",
    "#link to the problem ---> https://practice.geeksforgeeks.org/problems/armstrong-numbers2727/1#\n",
    "\n",
    "\n",
    "n=int(input(\"Enter number : \"))"
   ]
  },
  {
   "cell_type": "code",
   "execution_count": 2,
   "metadata": {},
   "outputs": [],
   "source": [
    "def countDigits(n):\n",
    "    digits=0\n",
    "    while(n!=0):\n",
    "        digits+=1\n",
    "        n=n//10\n",
    "    return digits"
   ]
  },
  {
   "cell_type": "code",
   "execution_count": 3,
   "metadata": {},
   "outputs": [],
   "source": [
    "def isArmstrong(n):\n",
    "    digi=countDigits(n)\n",
    "    s=0\n",
    "    x=n\n",
    "    while(x!=0):\n",
    "        r=x%10\n",
    "        s=s+(r**digi)\n",
    "        x=x//10\n",
    "    if(s==n):\n",
    "        return (print(\"Yes\"))\n",
    "    else:\n",
    "        return (print(\"No\"))"
   ]
  },
  {
   "cell_type": "code",
   "execution_count": 4,
   "metadata": {},
   "outputs": [
    {
     "name": "stdout",
     "output_type": "stream",
     "text": [
      "Yes\n"
     ]
    }
   ],
   "source": [
    "isArmstrong(n)"
   ]
  },
  {
   "cell_type": "code",
   "execution_count": 5,
   "metadata": {},
   "outputs": [
    {
     "name": "stdout",
     "output_type": "stream",
     "text": [
      "No\n"
     ]
    }
   ],
   "source": [
    "isArmstrong(121)"
   ]
  },
  {
   "cell_type": "code",
   "execution_count": 6,
   "metadata": {},
   "outputs": [
    {
     "name": "stdout",
     "output_type": "stream",
     "text": [
      "No\n"
     ]
    }
   ],
   "source": [
    "isArmstrong(577)"
   ]
  }
 ],
 "metadata": {
  "kernelspec": {
   "display_name": "Python 3",
   "language": "python",
   "name": "python3"
  },
  "language_info": {
   "codemirror_mode": {
    "name": "ipython",
    "version": 3
   },
   "file_extension": ".py",
   "mimetype": "text/x-python",
   "name": "python",
   "nbconvert_exporter": "python",
   "pygments_lexer": "ipython3",
   "version": "3.8.3"
  }
 },
 "nbformat": 4,
 "nbformat_minor": 4
}
