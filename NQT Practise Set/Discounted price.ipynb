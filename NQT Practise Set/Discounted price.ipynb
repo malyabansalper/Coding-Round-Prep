{
 "cells": [
  {
   "cell_type": "code",
   "execution_count": 1,
   "metadata": {},
   "outputs": [
    {
     "name": "stdout",
     "output_type": "stream",
     "text": [
      "22.34 32.34 11\n",
      "54.68\n",
      "48.6652\n",
      "6.0148\n",
      "\n",
      "65.9\n",
      "59.31\n",
      "6.59\n"
     ]
    }
   ],
   "source": [
    "def discount(n1,n2,d):\n",
    "    flag=n1+n2\n",
    "    res=round(((d*0.01)*(n1+n2)),4)\n",
    "    print(round(flag,2))\n",
    "    print(round((flag-res),4))\n",
    "    return res\n",
    "    \n",
    "    \n",
    "    \n",
    "l=list(input().split(\" \"))\n",
    "n1=float(l[0])\n",
    "n2=float(l[1])\n",
    "d=int(l[2])\n",
    "print(discount(n1,n2,d))\n",
    "print()\n",
    "print(discount(20.5,45.4,10))"
   ]
  },
  {
   "cell_type": "code",
   "execution_count": null,
   "metadata": {},
   "outputs": [],
   "source": []
  }
 ],
 "metadata": {
  "kernelspec": {
   "display_name": "Python 3",
   "language": "python",
   "name": "python3"
  },
  "language_info": {
   "codemirror_mode": {
    "name": "ipython",
    "version": 3
   },
   "file_extension": ".py",
   "mimetype": "text/x-python",
   "name": "python",
   "nbconvert_exporter": "python",
   "pygments_lexer": "ipython3",
   "version": "3.8.3"
  }
 },
 "nbformat": 4,
 "nbformat_minor": 4
}
