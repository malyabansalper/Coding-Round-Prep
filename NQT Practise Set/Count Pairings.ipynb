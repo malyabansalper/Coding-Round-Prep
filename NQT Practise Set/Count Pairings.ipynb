{
 "cells": [
  {
   "cell_type": "code",
   "execution_count": 1,
   "metadata": {},
   "outputs": [],
   "source": [
    "def countPairings(n):\n",
    "    dp=[0 for i in range(n+1)]\n",
    "    for i in range(n+1):\n",
    "        if(i<=2):\n",
    "            dp[i]=i\n",
    "        else:\n",
    "            dp[i]=dp[i-1]+(i-1)*dp[i-2]\n",
    "    return dp\n",
    "\n",
    "\n",
    "\n",
    "# gfg solution:\n",
    "\n",
    "def numberOfWays (x):\n",
    "    if x == 0 or x == 1:\n",
    "        return 1\n",
    "    else:\n",
    "        return (numberOfWays(x-1) +\n",
    "              (x-1) * numberOfWays(x-2))"
   ]
  },
  {
   "cell_type": "code",
   "execution_count": 2,
   "metadata": {},
   "outputs": [
    {
     "name": "stdout",
     "output_type": "stream",
     "text": [
      "Enter Number : 4\n",
      "[0, 1, 2, 4, 10]\n"
     ]
    }
   ],
   "source": [
    "n=int(input(\"Enter Number : \"))\n",
    "print(countPairings(n))"
   ]
  },
  {
   "cell_type": "code",
   "execution_count": 3,
   "metadata": {},
   "outputs": [
    {
     "name": "stdout",
     "output_type": "stream",
     "text": [
      "({(4, 4), (2, 4), (1, 2), (2, 1), (3, 4), (4, 1), (3, 1), (4, 3), (1, 1), (1, 4), (4, 2), (2, 3), (3, 3), (2, 2), (3, 2), (1, 3)}, 16)\n"
     ]
    }
   ],
   "source": [
    "def countUnique(arr, n):\n",
    "    # Set to store unique pairs\n",
    "    s = set()\n",
    " \n",
    "    # Make all possible pairs\n",
    "    for i in range(n):\n",
    "        for j in range(n):\n",
    "            s.add((arr[i], arr[j]))\n",
    " \n",
    "    # Return the size of the set\n",
    "    return s,len(s)\n",
    " \n",
    " \n",
    "# Driver code\n",
    " \n",
    "arr = [ 1, 2, 3,4 ]\n",
    "n = len(arr)\n",
    "print(countUnique(arr, n))"
   ]
  },
  {
   "cell_type": "code",
   "execution_count": null,
   "metadata": {},
   "outputs": [],
   "source": []
  }
 ],
 "metadata": {
  "kernelspec": {
   "display_name": "Python 3",
   "language": "python",
   "name": "python3"
  },
  "language_info": {
   "codemirror_mode": {
    "name": "ipython",
    "version": 3
   },
   "file_extension": ".py",
   "mimetype": "text/x-python",
   "name": "python",
   "nbconvert_exporter": "python",
   "pygments_lexer": "ipython3",
   "version": "3.8.3"
  }
 },
 "nbformat": 4,
 "nbformat_minor": 4
}
