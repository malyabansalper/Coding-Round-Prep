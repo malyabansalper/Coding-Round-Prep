{
 "cells": [
  {
   "cell_type": "code",
   "execution_count": 1,
   "metadata": {},
   "outputs": [],
   "source": [
    "# Find the Greatest number among given 10 Numbers"
   ]
  },
  {
   "cell_type": "code",
   "execution_count": 7,
   "metadata": {},
   "outputs": [
    {
     "name": "stdout",
     "output_type": "stream",
     "text": [
      "Enter 1 th Number : 1\n",
      "Enter 2 th Number : 1\n",
      "Enter 3 th Number : 11\n",
      "Enter 4 th Number : 11111\n",
      "Enter 5 th Number : 111111\n",
      "Enter 6 th Number :   43\n",
      "Enter 7 th Number : 21\n",
      "Enter 8 th Number :   89999999999\n",
      "Enter 9 th Number : 36\n",
      "Enter 10 th Number :    76\n"
     ]
    }
   ],
   "source": [
    "l=[]\n",
    "for i in range(0,10):\n",
    "   l.append( int(input(\"Enter {0} th Number : \".format(i+1)).strip()))"
   ]
  },
  {
   "cell_type": "code",
   "execution_count": 8,
   "metadata": {},
   "outputs": [],
   "source": [
    "def greater(l):\n",
    "    ans=l[0]\n",
    "    for i in range(1,len(l)-1):\n",
    "        if l[i]>ans:\n",
    "            ans=l[i]\n",
    "    return ans"
   ]
  },
  {
   "cell_type": "code",
   "execution_count": 9,
   "metadata": {},
   "outputs": [
    {
     "data": {
      "text/plain": [
       "89999999999"
      ]
     },
     "execution_count": 9,
     "metadata": {},
     "output_type": "execute_result"
    }
   ],
   "source": [
    "greater(l)"
   ]
  }
 ],
 "metadata": {
  "kernelspec": {
   "display_name": "Python 3",
   "language": "python",
   "name": "python3"
  },
  "language_info": {
   "codemirror_mode": {
    "name": "ipython",
    "version": 3
   },
   "file_extension": ".py",
   "mimetype": "text/x-python",
   "name": "python",
   "nbconvert_exporter": "python",
   "pygments_lexer": "ipython3",
   "version": "3.8.3"
  }
 },
 "nbformat": 4,
 "nbformat_minor": 4
}
